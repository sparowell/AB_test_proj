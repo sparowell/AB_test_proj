{
  "cells": [
    {
      "attachments": {},
      "cell_type": "markdown",
      "id": "96ac1922",
      "metadata": {
        "id": "96ac1922"
      },
      "source": [
        "# Проект по A/B - тестам"
      ]
    },
    {
      "cell_type": "code",
      "execution_count": 21,
      "id": "98f56dd8",
      "metadata": {},
      "outputs": [],
      "source": [
        "import pandas as pd\n",
        "import numpy as np\n",
        "import matplotlib.pyplot as plt\n",
        "import plotly.graph_objects as go\n",
        "from plotly.subplots import make_subplots\n",
        "from scipy.stats import ks_2samp,ttest_ind, shapiro, levene\n",
        "import scipy.stats as st\n",
        "plt.style.use('seaborn-whitegrid')\n"
      ]
    },
    {
      "attachments": {},
      "cell_type": "markdown",
      "id": "1fb036f5",
      "metadata": {
        "id": "1fb036f5"
      },
      "source": [
        "------------------"
      ]
    },
    {
      "attachments": {},
      "cell_type": "markdown",
      "id": "d8c6f14f",
      "metadata": {
        "id": "d8c6f14f"
      },
      "source": [
        "##  <ins>Задание 1.</ins>\n",
        "\n",
        "**Контекст**\\\n",
        "Мы много платим оператору из-за того,\n",
        "что он сам по каждому заданию\n",
        "звонит клиенту и ждёт ответа клиента.\n",
        "Мы хотим попробовать снизить затраты на операторов,\n",
        "внедрив систему,\n",
        "которая будет сама звонить человеку\n",
        "и в случае успеха перенаправлять задание оператору.\n",
        "        \n",
        "**Тест**\\\n",
        "Мы проводим тест,\n",
        "в рамках которого мы разбиваем весь поток\n",
        "на две части рановероятно,\n",
        "где одной части (контролю) мы продаём \n",
        "без автоматической системы дозвона,\n",
        "а второй части (тесту) - с ней.\n",
        "Целью этого теста\n",
        "является снижение расходов на задание.\n",
        "\n",
        "**Статистические вводные**\\\n",
        "Уровень значимости 5%.\n",
        "Мы хотели бы различать 5%-ное \n",
        "изменение целевой метрики\n",
        "с вероятностью 90%."
      ]
    },
    {
      "attachments": {},
      "cell_type": "markdown",
      "id": "0dd4c840",
      "metadata": {
        "id": "0dd4c840"
      },
      "source": [
        "### 1. Необходимо выбрать метрику и привести аргументацию."
      ]
    },
    {
      "attachments": {},
      "cell_type": "markdown",
      "id": "vG7kmtMEjHOU",
      "metadata": {
        "id": "vG7kmtMEjHOU"
      },
      "source": [
        "**Целевая метрика:** средняя величина расходов \n",
        "\n",
        "Это связано с тем, что можно не успеть набрать статистику по PV (Product Value) и NPV (Net Present Value)\n",
        "\n"
      ]
    },
    {
      "cell_type": "code",
      "execution_count": 22,
      "id": "7f4667bd",
      "metadata": {},
      "outputs": [
        {
          "data": {
            "text/html": [
              "<div>\n",
              "<style scoped>\n",
              "    .dataframe tbody tr th:only-of-type {\n",
              "        vertical-align: middle;\n",
              "    }\n",
              "\n",
              "    .dataframe tbody tr th {\n",
              "        vertical-align: top;\n",
              "    }\n",
              "\n",
              "    .dataframe thead th {\n",
              "        text-align: right;\n",
              "    }\n",
              "</style>\n",
              "<table border=\"1\" class=\"dataframe\">\n",
              "  <thead>\n",
              "    <tr style=\"text-align: right;\">\n",
              "      <th></th>\n",
              "      <th>ID</th>\n",
              "      <th>Флаг дозвона</th>\n",
              "      <th>Флаг продажи</th>\n",
              "      <th>Расходы</th>\n",
              "      <th>PV</th>\n",
              "      <th>NPV</th>\n",
              "    </tr>\n",
              "  </thead>\n",
              "  <tbody>\n",
              "    <tr>\n",
              "      <th>0</th>\n",
              "      <td>0</td>\n",
              "      <td>1</td>\n",
              "      <td>0</td>\n",
              "      <td>90</td>\n",
              "      <td>0</td>\n",
              "      <td>-90</td>\n",
              "    </tr>\n",
              "    <tr>\n",
              "      <th>1</th>\n",
              "      <td>1</td>\n",
              "      <td>0</td>\n",
              "      <td>0</td>\n",
              "      <td>5</td>\n",
              "      <td>0</td>\n",
              "      <td>-5</td>\n",
              "    </tr>\n",
              "    <tr>\n",
              "      <th>2</th>\n",
              "      <td>2</td>\n",
              "      <td>0</td>\n",
              "      <td>0</td>\n",
              "      <td>68</td>\n",
              "      <td>0</td>\n",
              "      <td>-68</td>\n",
              "    </tr>\n",
              "    <tr>\n",
              "      <th>3</th>\n",
              "      <td>3</td>\n",
              "      <td>1</td>\n",
              "      <td>0</td>\n",
              "      <td>22</td>\n",
              "      <td>0</td>\n",
              "      <td>-22</td>\n",
              "    </tr>\n",
              "    <tr>\n",
              "      <th>4</th>\n",
              "      <td>4</td>\n",
              "      <td>1</td>\n",
              "      <td>0</td>\n",
              "      <td>22</td>\n",
              "      <td>0</td>\n",
              "      <td>-22</td>\n",
              "    </tr>\n",
              "  </tbody>\n",
              "</table>\n",
              "</div>"
            ],
            "text/plain": [
              "   ID  Флаг дозвона  Флаг продажи  Расходы  PV  NPV\n",
              "0   0             1             0       90   0  -90\n",
              "1   1             0             0        5   0   -5\n",
              "2   2             0             0       68   0  -68\n",
              "3   3             1             0       22   0  -22\n",
              "4   4             1             0       22   0  -22"
            ]
          },
          "execution_count": 22,
          "metadata": {},
          "output_type": "execute_result"
        }
      ],
      "source": [
        "df = pd.read_csv('hist_telesales.csv')\n",
        "df.head()"
      ]
    },
    {
      "cell_type": "code",
      "execution_count": 23,
      "id": "b6c42ddc",
      "metadata": {},
      "outputs": [
        {
          "data": {
            "text/html": [
              "<div>\n",
              "<style scoped>\n",
              "    .dataframe tbody tr th:only-of-type {\n",
              "        vertical-align: middle;\n",
              "    }\n",
              "\n",
              "    .dataframe tbody tr th {\n",
              "        vertical-align: top;\n",
              "    }\n",
              "\n",
              "    .dataframe thead th {\n",
              "        text-align: right;\n",
              "    }\n",
              "</style>\n",
              "<table border=\"1\" class=\"dataframe\">\n",
              "  <thead>\n",
              "    <tr style=\"text-align: right;\">\n",
              "      <th></th>\n",
              "      <th>ID</th>\n",
              "      <th>Флаг дозвона</th>\n",
              "      <th>Флаг продажи</th>\n",
              "      <th>Расходы</th>\n",
              "      <th>PV</th>\n",
              "      <th>NPV</th>\n",
              "    </tr>\n",
              "  </thead>\n",
              "  <tbody>\n",
              "    <tr>\n",
              "      <th>count</th>\n",
              "      <td>72161.000000</td>\n",
              "      <td>72161.000000</td>\n",
              "      <td>72161.000000</td>\n",
              "      <td>72161.000000</td>\n",
              "      <td>72161.000000</td>\n",
              "      <td>72161.000000</td>\n",
              "    </tr>\n",
              "    <tr>\n",
              "      <th>mean</th>\n",
              "      <td>36080.000000</td>\n",
              "      <td>0.599881</td>\n",
              "      <td>0.302172</td>\n",
              "      <td>200.581547</td>\n",
              "      <td>482.041352</td>\n",
              "      <td>281.459805</td>\n",
              "    </tr>\n",
              "    <tr>\n",
              "      <th>std</th>\n",
              "      <td>20831.230725</td>\n",
              "      <td>0.489926</td>\n",
              "      <td>0.459202</td>\n",
              "      <td>363.748786</td>\n",
              "      <td>814.227243</td>\n",
              "      <td>677.664908</td>\n",
              "    </tr>\n",
              "    <tr>\n",
              "      <th>min</th>\n",
              "      <td>0.000000</td>\n",
              "      <td>0.000000</td>\n",
              "      <td>0.000000</td>\n",
              "      <td>0.000000</td>\n",
              "      <td>0.000000</td>\n",
              "      <td>-4406.000000</td>\n",
              "    </tr>\n",
              "    <tr>\n",
              "      <th>25%</th>\n",
              "      <td>18040.000000</td>\n",
              "      <td>0.000000</td>\n",
              "      <td>0.000000</td>\n",
              "      <td>21.000000</td>\n",
              "      <td>0.000000</td>\n",
              "      <td>-54.000000</td>\n",
              "    </tr>\n",
              "    <tr>\n",
              "      <th>50%</th>\n",
              "      <td>36080.000000</td>\n",
              "      <td>1.000000</td>\n",
              "      <td>0.000000</td>\n",
              "      <td>59.000000</td>\n",
              "      <td>0.000000</td>\n",
              "      <td>-18.000000</td>\n",
              "    </tr>\n",
              "    <tr>\n",
              "      <th>75%</th>\n",
              "      <td>54120.000000</td>\n",
              "      <td>1.000000</td>\n",
              "      <td>1.000000</td>\n",
              "      <td>182.000000</td>\n",
              "      <td>1258.000000</td>\n",
              "      <td>535.000000</td>\n",
              "    </tr>\n",
              "    <tr>\n",
              "      <th>max</th>\n",
              "      <td>72160.000000</td>\n",
              "      <td>1.000000</td>\n",
              "      <td>1.000000</td>\n",
              "      <td>6280.000000</td>\n",
              "      <td>41255.000000</td>\n",
              "      <td>41144.000000</td>\n",
              "    </tr>\n",
              "  </tbody>\n",
              "</table>\n",
              "</div>"
            ],
            "text/plain": [
              "                 ID  Флаг дозвона  Флаг продажи       Расходы            PV  \\\n",
              "count  72161.000000  72161.000000  72161.000000  72161.000000  72161.000000   \n",
              "mean   36080.000000      0.599881      0.302172    200.581547    482.041352   \n",
              "std    20831.230725      0.489926      0.459202    363.748786    814.227243   \n",
              "min        0.000000      0.000000      0.000000      0.000000      0.000000   \n",
              "25%    18040.000000      0.000000      0.000000     21.000000      0.000000   \n",
              "50%    36080.000000      1.000000      0.000000     59.000000      0.000000   \n",
              "75%    54120.000000      1.000000      1.000000    182.000000   1258.000000   \n",
              "max    72160.000000      1.000000      1.000000   6280.000000  41255.000000   \n",
              "\n",
              "                NPV  \n",
              "count  72161.000000  \n",
              "mean     281.459805  \n",
              "std      677.664908  \n",
              "min    -4406.000000  \n",
              "25%      -54.000000  \n",
              "50%      -18.000000  \n",
              "75%      535.000000  \n",
              "max    41144.000000  "
            ]
          },
          "execution_count": 23,
          "metadata": {},
          "output_type": "execute_result"
        }
      ],
      "source": [
        "df.describe()"
      ]
    },
    {
      "cell_type": "code",
      "execution_count": 24,
      "id": "ccc3c595",
      "metadata": {},
      "outputs": [
        {
          "data": {
            "image/png": "[encoded data removed]"
          },
          "metadata": {},
          "output_type": "display_data"
        }
      ],
      "source": [
        "\n",
        "fig = make_subplots(rows=1, cols=1)\n",
        "\n",
        "fig.add_trace(go.Histogram(\n",
        "    x=df['Расходы'],\n",
        "    autobinx=True,\n",
        "    showlegend=True, name='Расходы'),row=1,col=1,secondary_y=False)\n",
        "\n",
        "fig.update_layout(\n",
        "                width=1000, \n",
        "                height=500, \n",
        "                title_text=\"Гистограмма распределения расходов\", \n",
        "                title_font_size=30,\n",
        "                xaxis_range=[0, 1000])\n",
        "fig.show('png')"
      ]
    },
    {
      "attachments": {},
      "cell_type": "markdown",
      "id": "b644cd0a",
      "metadata": {
        "id": "b644cd0a"
      },
      "source": [
        "### 2. Альтернатива в критерии."
      ]
    },
    {
      "attachments": {},
      "cell_type": "markdown",
      "id": "KFMpcB0mjJXN",
      "metadata": {
        "id": "KFMpcB0mjJXN"
      },
      "source": [
        "$H_0: \\mu = \\mu_0$  - не произошло никаких изменений\\\n",
        "$H_1: \\mu < \\mu_0$ -  на тесте мы наблюдается уменьшение величины расходов \\\n",
        "где $\\mu$ - средняя величина расходов"
      ]
    },
    {
      "attachments": {},
      "cell_type": "markdown",
      "id": "727aefc4",
      "metadata": {
        "id": "727aefc4"
      },
      "source": [
        "### 3.1. Каков размер выборки? Привести аргументацию и написать как получилось то или иное число."
      ]
    },
    {
      "cell_type": "code",
      "execution_count": 25,
      "id": "af047bbd",
      "metadata": {},
      "outputs": [
        {
          "name": "stdout",
          "output_type": "stream",
          "text": [
            "Необходимый объем выборки: 22531\n",
            "Выборочное среднее: 200.58\n",
            "Выборочное среднее: 132313.18\n"
          ]
        }
      ],
      "source": [
        "alpha = 0.05\n",
        "beta = 0.1\n",
        "z_alpha = st.norm.ppf(1-alpha) # используем одностороннюю альтернативу\n",
        "z_beta = st.norm.ppf(beta)\n",
        "n = df['Расходы'].var() * (z_alpha-z_beta)**2/(0.05*df['Расходы'].mean())**2/0.5\n",
        "print(f'Необходимый объем выборки: {int(n+0.5)}')\n",
        "print(f\"Выборочное среднее: {df['Расходы'].mean():.02f}\")\n",
        "print(f\"Выборочное среднее: {df['Расходы'].var():.02f}\")\n"
      ]
    },
    {
      "attachments": {},
      "cell_type": "markdown",
      "id": "fYijOurfjLNp",
      "metadata": {
        "id": "fYijOurfjLNp"
      },
      "source": [
        "$$n = \\frac{\\sigma^2*(z_{1-\\alpha}-z_{\\beta})^2}{k*\\Delta^2} \\approx 22531,$$\n",
        "\n",
        "где $\\sigma^2 \\approx 132311$  - дисперсия на основе исторических данных\\\n",
        "$\\Delta = 0.05 * \\mu_0 = 10$ - ожидаемое изменение\\\n",
        "$\\alpha, \\beta$ - вероятность ошибки I и II рода\\\n",
        "$z_{1-\\alpha}$ - квантиль одностороннего стандартного распределения\\\n",
        "k = 0.5 - пропорция, в соответствии с которой делим тест/контроль\n",
        "\n",
        "\n"
      ]
    },
    {
      "cell_type": "code",
      "execution_count": 26,
      "id": "fb2fa429",
      "metadata": {},
      "outputs": [
        {
          "data": {
            "text/html": [
              "<div>\n",
              "<style scoped>\n",
              "    .dataframe tbody tr th:only-of-type {\n",
              "        vertical-align: middle;\n",
              "    }\n",
              "\n",
              "    .dataframe tbody tr th {\n",
              "        vertical-align: top;\n",
              "    }\n",
              "\n",
              "    .dataframe thead th {\n",
              "        text-align: right;\n",
              "    }\n",
              "</style>\n",
              "<table border=\"1\" class=\"dataframe\">\n",
              "  <thead>\n",
              "    <tr style=\"text-align: right;\">\n",
              "      <th></th>\n",
              "      <th>ID</th>\n",
              "      <th>Флаг дозвона</th>\n",
              "      <th>Флаг продажи</th>\n",
              "      <th>Расходы</th>\n",
              "      <th>PV</th>\n",
              "      <th>NPV</th>\n",
              "    </tr>\n",
              "  </thead>\n",
              "  <tbody>\n",
              "    <tr>\n",
              "      <th>count</th>\n",
              "      <td>22531.000000</td>\n",
              "      <td>22531.000000</td>\n",
              "      <td>22531.000000</td>\n",
              "      <td>22531.000000</td>\n",
              "      <td>22531.000000</td>\n",
              "      <td>22531.000000</td>\n",
              "    </tr>\n",
              "    <tr>\n",
              "      <th>mean</th>\n",
              "      <td>11265.000000</td>\n",
              "      <td>0.595846</td>\n",
              "      <td>0.291154</td>\n",
              "      <td>193.405353</td>\n",
              "      <td>466.398429</td>\n",
              "      <td>272.993076</td>\n",
              "    </tr>\n",
              "    <tr>\n",
              "      <th>std</th>\n",
              "      <td>6504.283794</td>\n",
              "      <td>0.490739</td>\n",
              "      <td>0.454305</td>\n",
              "      <td>352.840513</td>\n",
              "      <td>795.275619</td>\n",
              "      <td>657.541292</td>\n",
              "    </tr>\n",
              "    <tr>\n",
              "      <th>min</th>\n",
              "      <td>0.000000</td>\n",
              "      <td>0.000000</td>\n",
              "      <td>0.000000</td>\n",
              "      <td>0.000000</td>\n",
              "      <td>0.000000</td>\n",
              "      <td>-3203.000000</td>\n",
              "    </tr>\n",
              "    <tr>\n",
              "      <th>25%</th>\n",
              "      <td>5632.500000</td>\n",
              "      <td>0.000000</td>\n",
              "      <td>0.000000</td>\n",
              "      <td>21.000000</td>\n",
              "      <td>0.000000</td>\n",
              "      <td>-55.000000</td>\n",
              "    </tr>\n",
              "    <tr>\n",
              "      <th>50%</th>\n",
              "      <td>11265.000000</td>\n",
              "      <td>1.000000</td>\n",
              "      <td>0.000000</td>\n",
              "      <td>58.000000</td>\n",
              "      <td>0.000000</td>\n",
              "      <td>-19.000000</td>\n",
              "    </tr>\n",
              "    <tr>\n",
              "      <th>75%</th>\n",
              "      <td>16897.500000</td>\n",
              "      <td>1.000000</td>\n",
              "      <td>1.000000</td>\n",
              "      <td>172.000000</td>\n",
              "      <td>1245.000000</td>\n",
              "      <td>444.000000</td>\n",
              "    </tr>\n",
              "    <tr>\n",
              "      <th>max</th>\n",
              "      <td>22530.000000</td>\n",
              "      <td>1.000000</td>\n",
              "      <td>1.000000</td>\n",
              "      <td>4706.000000</td>\n",
              "      <td>14914.000000</td>\n",
              "      <td>14590.000000</td>\n",
              "    </tr>\n",
              "  </tbody>\n",
              "</table>\n",
              "</div>"
            ],
            "text/plain": [
              "                 ID  Флаг дозвона  Флаг продажи       Расходы            PV  \\\n",
              "count  22531.000000  22531.000000  22531.000000  22531.000000  22531.000000   \n",
              "mean   11265.000000      0.595846      0.291154    193.405353    466.398429   \n",
              "std     6504.283794      0.490739      0.454305    352.840513    795.275619   \n",
              "min        0.000000      0.000000      0.000000      0.000000      0.000000   \n",
              "25%     5632.500000      0.000000      0.000000     21.000000      0.000000   \n",
              "50%    11265.000000      1.000000      0.000000     58.000000      0.000000   \n",
              "75%    16897.500000      1.000000      1.000000    172.000000   1245.000000   \n",
              "max    22530.000000      1.000000      1.000000   4706.000000  14914.000000   \n",
              "\n",
              "                NPV  \n",
              "count  22531.000000  \n",
              "mean     272.993076  \n",
              "std      657.541292  \n",
              "min    -3203.000000  \n",
              "25%      -55.000000  \n",
              "50%      -19.000000  \n",
              "75%      444.000000  \n",
              "max    14590.000000  "
            ]
          },
          "metadata": {},
          "output_type": "display_data"
        },
        {
          "data": {
            "text/html": [
              "<div>\n",
              "<style scoped>\n",
              "    .dataframe tbody tr th:only-of-type {\n",
              "        vertical-align: middle;\n",
              "    }\n",
              "\n",
              "    .dataframe tbody tr th {\n",
              "        vertical-align: top;\n",
              "    }\n",
              "\n",
              "    .dataframe thead th {\n",
              "        text-align: right;\n",
              "    }\n",
              "</style>\n",
              "<table border=\"1\" class=\"dataframe\">\n",
              "  <thead>\n",
              "    <tr style=\"text-align: right;\">\n",
              "      <th></th>\n",
              "      <th>ID</th>\n",
              "      <th>Флаг дозвона</th>\n",
              "      <th>Флаг продажи</th>\n",
              "      <th>Расходы</th>\n",
              "      <th>PV</th>\n",
              "      <th>NPV</th>\n",
              "    </tr>\n",
              "  </thead>\n",
              "  <tbody>\n",
              "    <tr>\n",
              "      <th>count</th>\n",
              "      <td>22531.000000</td>\n",
              "      <td>22531.000000</td>\n",
              "      <td>22531.000000</td>\n",
              "      <td>22531.000000</td>\n",
              "      <td>22531.000000</td>\n",
              "      <td>22531.000000</td>\n",
              "    </tr>\n",
              "    <tr>\n",
              "      <th>mean</th>\n",
              "      <td>11265.000000</td>\n",
              "      <td>0.603702</td>\n",
              "      <td>0.300297</td>\n",
              "      <td>187.967068</td>\n",
              "      <td>477.022635</td>\n",
              "      <td>289.055568</td>\n",
              "    </tr>\n",
              "    <tr>\n",
              "      <th>std</th>\n",
              "      <td>6504.283794</td>\n",
              "      <td>0.489139</td>\n",
              "      <td>0.458397</td>\n",
              "      <td>335.168820</td>\n",
              "      <td>780.298358</td>\n",
              "      <td>644.034015</td>\n",
              "    </tr>\n",
              "    <tr>\n",
              "      <th>min</th>\n",
              "      <td>0.000000</td>\n",
              "      <td>0.000000</td>\n",
              "      <td>0.000000</td>\n",
              "      <td>0.000000</td>\n",
              "      <td>0.000000</td>\n",
              "      <td>-3501.000000</td>\n",
              "    </tr>\n",
              "    <tr>\n",
              "      <th>25%</th>\n",
              "      <td>5632.500000</td>\n",
              "      <td>0.000000</td>\n",
              "      <td>0.000000</td>\n",
              "      <td>21.000000</td>\n",
              "      <td>0.000000</td>\n",
              "      <td>-54.000000</td>\n",
              "    </tr>\n",
              "    <tr>\n",
              "      <th>50%</th>\n",
              "      <td>11265.000000</td>\n",
              "      <td>1.000000</td>\n",
              "      <td>0.000000</td>\n",
              "      <td>59.000000</td>\n",
              "      <td>0.000000</td>\n",
              "      <td>-18.000000</td>\n",
              "    </tr>\n",
              "    <tr>\n",
              "      <th>75%</th>\n",
              "      <td>16897.500000</td>\n",
              "      <td>1.000000</td>\n",
              "      <td>1.000000</td>\n",
              "      <td>175.000000</td>\n",
              "      <td>1253.000000</td>\n",
              "      <td>589.000000</td>\n",
              "    </tr>\n",
              "    <tr>\n",
              "      <th>max</th>\n",
              "      <td>22530.000000</td>\n",
              "      <td>1.000000</td>\n",
              "      <td>1.000000</td>\n",
              "      <td>5067.000000</td>\n",
              "      <td>10679.000000</td>\n",
              "      <td>10579.000000</td>\n",
              "    </tr>\n",
              "  </tbody>\n",
              "</table>\n",
              "</div>"
            ],
            "text/plain": [
              "                 ID  Флаг дозвона  Флаг продажи       Расходы            PV  \\\n",
              "count  22531.000000  22531.000000  22531.000000  22531.000000  22531.000000   \n",
              "mean   11265.000000      0.603702      0.300297    187.967068    477.022635   \n",
              "std     6504.283794      0.489139      0.458397    335.168820    780.298358   \n",
              "min        0.000000      0.000000      0.000000      0.000000      0.000000   \n",
              "25%     5632.500000      0.000000      0.000000     21.000000      0.000000   \n",
              "50%    11265.000000      1.000000      0.000000     59.000000      0.000000   \n",
              "75%    16897.500000      1.000000      1.000000    175.000000   1253.000000   \n",
              "max    22530.000000      1.000000      1.000000   5067.000000  10679.000000   \n",
              "\n",
              "                NPV  \n",
              "count  22531.000000  \n",
              "mean     289.055568  \n",
              "std      644.034015  \n",
              "min    -3501.000000  \n",
              "25%      -54.000000  \n",
              "50%      -18.000000  \n",
              "75%      589.000000  \n",
              "max    10579.000000  "
            ]
          },
          "metadata": {},
          "output_type": "display_data"
        }
      ],
      "source": [
        "# тут рассматриваем расходы в качестве метрики\n",
        "\n",
        "df_ctrl = pd.read_csv('Контроль.csv')\n",
        "df_test = pd.read_csv('Тест.csv')\n",
        "display(df_ctrl.describe())\n",
        "display(df_test.describe())"
      ]
    },
    {
      "attachments": {},
      "cell_type": "markdown",
      "id": "22e2d9b0",
      "metadata": {
        "id": "22e2d9b0"
      },
      "source": [
        "### 4. Принятие решения. Расписать подробно с аргументами."
      ]
    },
    {
      "cell_type": "code",
      "execution_count": 27,
      "id": "318d7ac5",
      "metadata": {},
      "outputs": [
        {
          "data": {
            "image/png": "[encoded data removed]"
          },
          "metadata": {},
          "output_type": "display_data"
        }
      ],
      "source": [
        "fig = make_subplots(rows=1, cols=1)\n",
        "\n",
        "\n",
        "fig.add_trace(go.Histogram(\n",
        "    x=df_ctrl['Расходы'],\n",
        "    autobinx=True,\n",
        "    showlegend=True, name='control_sample'),row=1,col=1)\n",
        "fig.update_xaxes(range=[0, 2000], row=1,col=1)\n",
        "\n",
        "fig.add_trace(go.Histogram(\n",
        "    x=df_test['Расходы'],\n",
        "    autobinx=True,\n",
        "    showlegend=True, name='test_sample'),row=1,col=1)\n",
        "\n",
        "fig.update_layout(\n",
        "    width=800, \n",
        "    height=400, \n",
        "    title_text=\"Распределение параметра 'Расходы' на тестовой и контрольной выборках\",\n",
        "    xaxis_range=[0, 500]\n",
        "    )\n",
        "fig.update_traces(overwrite=True, marker={\"opacity\": 0.8})\n",
        "fig.show('png')\n",
        "\n"
      ]
    },
    {
      "attachments": {},
      "cell_type": "markdown",
      "id": "efa6c206",
      "metadata": {},
      "source": [
        "### Тест Шапиро-Уилка\n",
        "Для начала проверим **нормальность распределения средних** с помощью теста Шапиро-Уилка,\n",
        "для этого нужно много выборок чтобы убедиться что среднее значение действительно распределено нормально"
      ]
    },
    {
      "cell_type": "code",
      "execution_count": 40,
      "id": "7ffffbe3",
      "metadata": {},
      "outputs": [
        {
          "name": "stdout",
          "output_type": "stream",
          "text": [
            "Для контрольной выборки средние распределены нормально, pvalue = 1.0\n",
            "Для тестовой выборки средние распределены нормально, pvalue = 1.0\n"
          ]
        }
      ],
      "source": [
        "def shapiro_test(data, alpha=0.05):\n",
        "   means_control = []\n",
        "   n = 0\n",
        "   while n < 1000:\n",
        "      n += 1\n",
        "      sample = data.sample(4000, random_state=1).mean()\n",
        "      means_control.append(sample)\n",
        "   p_value = shapiro(means_control).pvalue\n",
        "   return (\n",
        "            f\"средние распределены нормально, pvalue = {p_value:.03}\" \n",
        "            if p_value>alpha \n",
        "            else f'распределение средних отличается от нормального, pvalue = {p_value:.03f}')\n",
        "\n",
        "print(f\"Для контрольной выборки {shapiro_test(df_ctrl['Расходы'])}\")\n",
        "print(f\"Для тестовой выборки {shapiro_test(df_test['Расходы'])}\")\n",
        "\n"
      ]
    },
    {
      "attachments": {},
      "cell_type": "markdown",
      "id": "1e0b113a",
      "metadata": {},
      "source": [
        "### Тест Левене\n",
        "Проверим **однородность дисперсии** между тестовой и контрольной группами с помощью теста Левене"
      ]
    },
    {
      "cell_type": "code",
      "execution_count": 29,
      "id": "4d3395b4",
      "metadata": {},
      "outputs": [
        {
          "name": "stdout",
          "output_type": "stream",
          "text": [
            "Выборки обладают однородной дисперсией, pvalue = 0.066\n"
          ]
        }
      ],
      "source": [
        "levene_p_value = levene(df_ctrl['Расходы'], df_test['Расходы']).pvalue\n",
        "print(f\"Выборки обладают однородной дисперсией, pvalue = {levene_p_value:.03f}\" if levene_p_value > alpha else f\"Дисперсия выборок неоднородна, pvalue = {levene_p_value:.03f}\")"
      ]
    },
    {
      "attachments": {},
      "cell_type": "markdown",
      "id": "0e14aec4",
      "metadata": {},
      "source": [
        "### Т - тест\n",
        "Так как распределения полученных выборок является нормальным, а дисперсия однородна, применим Т-тест для сравнения средних. \n",
        "\n",
        "Наша **нулевая гипотеза**: Величина средних расходов на контрольной и тестовой выборках не изменилась"
      ]
    },
    {
      "cell_type": "code",
      "execution_count": 30,
      "id": "dec98b1b",
      "metadata": {},
      "outputs": [
        {
          "name": "stdout",
          "output_type": "stream",
          "text": [
            "Отклоняем H0-гипотезу о равенстве средних?: Да, p-value = 0.047\n"
          ]
        }
      ],
      "source": [
        "p = ttest_ind(df_test['Расходы'], df_ctrl['Расходы'], alternative='less', equal_var=True).pvalue\n",
        "print(f'Отклоняем H0-гипотезу о равенстве средних?: {\"Да\" if p < alpha else \"Нет\"}, p-value = {p:.03f}')"
      ]
    },
    {
      "attachments": {},
      "cell_type": "markdown",
      "id": "052448e7",
      "metadata": {},
      "source": [
        "### **Вывод:**\n",
        "Проведенный тест позволяет отклонить нулевую гипотезу о равенстве средних. \\\n",
        "Тем самым получено статистически значимое уменьшение средней величины расходов - которая выбрана в качестве целевой метрики. Таким образом, в результате внедрения новой автоматической системы дозвонов, удалось уменьшить расходы на оператора."
      ]
    },
    {
      "attachments": {},
      "cell_type": "markdown",
      "id": "f9e15111",
      "metadata": {
        "id": "f9e15111"
      },
      "source": [
        "------------------"
      ]
    },
    {
      "attachments": {},
      "cell_type": "markdown",
      "id": "7ea196b1",
      "metadata": {
        "id": "7ea196b1"
      },
      "source": [
        "##  <ins>Задание 2.</ins>\n",
        "\n",
        "**Контекст**\n",
        "\n",
        "ЦБ смягчило правило,\n",
        "ограничивающее варианты продажи услуги.\n",
        "Мы хотим попробовать\n",
        "более агрессивную продажу услуги,\n",
        "но боимся,\n",
        "что это повлияет на экономику основного продукта (КК - кредитная карта)\n",
        "из-за негатива клиентов.\n",
        "\n",
        "**Тест**\n",
        "\n",
        "Мы проводим тест,\n",
        "в рамках которого мы разбиваем весь поток\n",
        "на две части рановероятно,\n",
        "где одной части (контролю) \n",
        "мы будем предлагать услугу текущим способом,\n",
        "а второй части (тесту) - новым более агрессивным способом.\n",
        "\n",
        "Целью этого теста является увеличение доходности КК + услуги.\n",
        "\n",
        "**Статистические вводные**\n",
        "\n",
        "Проверка однородности выбранного параметра\n",
        "осуществяется с уровнем значимости 2%.\n",
        "\n",
        "Уровень значимости 5%.\n",
        "Мы хотели бы различать 3%-ное\n",
        "изменение целевой метрики\n",
        "с вероятностью 85%."
      ]
    },
    {
      "attachments": {},
      "cell_type": "markdown",
      "id": "e4691844",
      "metadata": {
        "id": "e4691844"
      },
      "source": [
        "### 1. Необходимо выбрать метрику и привести аргументацию."
      ]
    },
    {
      "attachments": {},
      "cell_type": "markdown",
      "id": "56c3fa1d",
      "metadata": {},
      "source": [
        "В качестве метрики буду использовать **среднее значение NPV** - чистая приведенная стоимость, поскольку целю теста является увеличение суммарной доходности как от кредитных карт, так и от продажи услуг. Такая метрика учитывает влияние обоих факторов и позволяет оценить влияние теста на доходность продукта в целом"
      ]
    },
    {
      "cell_type": "code",
      "execution_count": 31,
      "id": "Q3Zae2tSjQFW",
      "metadata": {
        "id": "Q3Zae2tSjQFW"
      },
      "outputs": [
        {
          "data": {
            "text/html": [
              "<div>\n",
              "<style scoped>\n",
              "    .dataframe tbody tr th:only-of-type {\n",
              "        vertical-align: middle;\n",
              "    }\n",
              "\n",
              "    .dataframe tbody tr th {\n",
              "        vertical-align: top;\n",
              "    }\n",
              "\n",
              "    .dataframe thead th {\n",
              "        text-align: right;\n",
              "    }\n",
              "</style>\n",
              "<table border=\"1\" class=\"dataframe\">\n",
              "  <thead>\n",
              "    <tr style=\"text-align: right;\">\n",
              "      <th></th>\n",
              "      <th>ID</th>\n",
              "      <th>Возраст</th>\n",
              "      <th>Доход клиента</th>\n",
              "      <th>Вероятность банкротства</th>\n",
              "      <th>Флаг утилизации счёта</th>\n",
              "      <th>Расходы</th>\n",
              "      <th>PV КК</th>\n",
              "      <th>PV услуги</th>\n",
              "      <th>NPV</th>\n",
              "    </tr>\n",
              "  </thead>\n",
              "  <tbody>\n",
              "    <tr>\n",
              "      <th>0</th>\n",
              "      <td>0</td>\n",
              "      <td>19</td>\n",
              "      <td>21620.835463</td>\n",
              "      <td>0.138061</td>\n",
              "      <td>0</td>\n",
              "      <td>102</td>\n",
              "      <td>0</td>\n",
              "      <td>0</td>\n",
              "      <td>-102</td>\n",
              "    </tr>\n",
              "    <tr>\n",
              "      <th>1</th>\n",
              "      <td>1</td>\n",
              "      <td>27</td>\n",
              "      <td>24897.990863</td>\n",
              "      <td>0.035508</td>\n",
              "      <td>1</td>\n",
              "      <td>409</td>\n",
              "      <td>11686</td>\n",
              "      <td>1754</td>\n",
              "      <td>13031</td>\n",
              "    </tr>\n",
              "    <tr>\n",
              "      <th>2</th>\n",
              "      <td>2</td>\n",
              "      <td>50</td>\n",
              "      <td>23989.526947</td>\n",
              "      <td>0.098793</td>\n",
              "      <td>0</td>\n",
              "      <td>16</td>\n",
              "      <td>0</td>\n",
              "      <td>0</td>\n",
              "      <td>-16</td>\n",
              "    </tr>\n",
              "    <tr>\n",
              "      <th>3</th>\n",
              "      <td>3</td>\n",
              "      <td>18</td>\n",
              "      <td>38442.409756</td>\n",
              "      <td>0.365661</td>\n",
              "      <td>1</td>\n",
              "      <td>788</td>\n",
              "      <td>13738</td>\n",
              "      <td>1578</td>\n",
              "      <td>14528</td>\n",
              "    </tr>\n",
              "    <tr>\n",
              "      <th>4</th>\n",
              "      <td>4</td>\n",
              "      <td>24</td>\n",
              "      <td>21291.521612</td>\n",
              "      <td>0.036909</td>\n",
              "      <td>1</td>\n",
              "      <td>1048</td>\n",
              "      <td>6594</td>\n",
              "      <td>2213</td>\n",
              "      <td>7759</td>\n",
              "    </tr>\n",
              "    <tr>\n",
              "      <th>...</th>\n",
              "      <td>...</td>\n",
              "      <td>...</td>\n",
              "      <td>...</td>\n",
              "      <td>...</td>\n",
              "      <td>...</td>\n",
              "      <td>...</td>\n",
              "      <td>...</td>\n",
              "      <td>...</td>\n",
              "      <td>...</td>\n",
              "    </tr>\n",
              "    <tr>\n",
              "      <th>123250</th>\n",
              "      <td>123250</td>\n",
              "      <td>32</td>\n",
              "      <td>26099.633927</td>\n",
              "      <td>0.110756</td>\n",
              "      <td>0</td>\n",
              "      <td>47</td>\n",
              "      <td>0</td>\n",
              "      <td>0</td>\n",
              "      <td>-47</td>\n",
              "    </tr>\n",
              "    <tr>\n",
              "      <th>123251</th>\n",
              "      <td>123251</td>\n",
              "      <td>20</td>\n",
              "      <td>24579.749275</td>\n",
              "      <td>0.113920</td>\n",
              "      <td>1</td>\n",
              "      <td>594</td>\n",
              "      <td>14268</td>\n",
              "      <td>1672</td>\n",
              "      <td>15346</td>\n",
              "    </tr>\n",
              "    <tr>\n",
              "      <th>123252</th>\n",
              "      <td>123252</td>\n",
              "      <td>36</td>\n",
              "      <td>34062.902531</td>\n",
              "      <td>0.247122</td>\n",
              "      <td>1</td>\n",
              "      <td>77</td>\n",
              "      <td>5950</td>\n",
              "      <td>2017</td>\n",
              "      <td>7890</td>\n",
              "    </tr>\n",
              "    <tr>\n",
              "      <th>123253</th>\n",
              "      <td>123253</td>\n",
              "      <td>67</td>\n",
              "      <td>24609.838522</td>\n",
              "      <td>0.020752</td>\n",
              "      <td>1</td>\n",
              "      <td>279</td>\n",
              "      <td>6278</td>\n",
              "      <td>1847</td>\n",
              "      <td>7846</td>\n",
              "    </tr>\n",
              "    <tr>\n",
              "      <th>123254</th>\n",
              "      <td>123254</td>\n",
              "      <td>36</td>\n",
              "      <td>23378.281337</td>\n",
              "      <td>0.092221</td>\n",
              "      <td>1</td>\n",
              "      <td>186</td>\n",
              "      <td>7093</td>\n",
              "      <td>6109</td>\n",
              "      <td>13016</td>\n",
              "    </tr>\n",
              "  </tbody>\n",
              "</table>\n",
              "<p>123255 rows × 9 columns</p>\n",
              "</div>"
            ],
            "text/plain": [
              "            ID  Возраст  Доход клиента  Вероятность банкротства  \\\n",
              "0            0       19   21620.835463                 0.138061   \n",
              "1            1       27   24897.990863                 0.035508   \n",
              "2            2       50   23989.526947                 0.098793   \n",
              "3            3       18   38442.409756                 0.365661   \n",
              "4            4       24   21291.521612                 0.036909   \n",
              "...        ...      ...            ...                      ...   \n",
              "123250  123250       32   26099.633927                 0.110756   \n",
              "123251  123251       20   24579.749275                 0.113920   \n",
              "123252  123252       36   34062.902531                 0.247122   \n",
              "123253  123253       67   24609.838522                 0.020752   \n",
              "123254  123254       36   23378.281337                 0.092221   \n",
              "\n",
              "        Флаг утилизации счёта  Расходы  PV КК  PV услуги    NPV  \n",
              "0                           0      102      0          0   -102  \n",
              "1                           1      409  11686       1754  13031  \n",
              "2                           0       16      0          0    -16  \n",
              "3                           1      788  13738       1578  14528  \n",
              "4                           1     1048   6594       2213   7759  \n",
              "...                       ...      ...    ...        ...    ...  \n",
              "123250                      0       47      0          0    -47  \n",
              "123251                      1      594  14268       1672  15346  \n",
              "123252                      1       77   5950       2017   7890  \n",
              "123253                      1      279   6278       1847   7846  \n",
              "123254                      1      186   7093       6109  13016  \n",
              "\n",
              "[123255 rows x 9 columns]"
            ]
          },
          "execution_count": 31,
          "metadata": {},
          "output_type": "execute_result"
        }
      ],
      "source": [
        "df2 = pd.read_csv('hist_credit_card.csv')\n",
        "df2"
      ]
    },
    {
      "cell_type": "code",
      "execution_count": 32,
      "id": "e7da26b6",
      "metadata": {},
      "outputs": [
        {
          "data": {
            "text/html": [
              "<div>\n",
              "<style scoped>\n",
              "    .dataframe tbody tr th:only-of-type {\n",
              "        vertical-align: middle;\n",
              "    }\n",
              "\n",
              "    .dataframe tbody tr th {\n",
              "        vertical-align: top;\n",
              "    }\n",
              "\n",
              "    .dataframe thead th {\n",
              "        text-align: right;\n",
              "    }\n",
              "</style>\n",
              "<table border=\"1\" class=\"dataframe\">\n",
              "  <thead>\n",
              "    <tr style=\"text-align: right;\">\n",
              "      <th></th>\n",
              "      <th>ID</th>\n",
              "      <th>Возраст</th>\n",
              "      <th>Доход клиента</th>\n",
              "      <th>Вероятность банкротства</th>\n",
              "      <th>Флаг утилизации счёта</th>\n",
              "      <th>Расходы</th>\n",
              "      <th>PV КК</th>\n",
              "      <th>PV услуги</th>\n",
              "      <th>NPV</th>\n",
              "    </tr>\n",
              "  </thead>\n",
              "  <tbody>\n",
              "    <tr>\n",
              "      <th>count</th>\n",
              "      <td>123255.000000</td>\n",
              "      <td>123255.000000</td>\n",
              "      <td>1.232550e+05</td>\n",
              "      <td>1.232550e+05</td>\n",
              "      <td>123255.000000</td>\n",
              "      <td>123255.000000</td>\n",
              "      <td>1.232550e+05</td>\n",
              "      <td>123255.000000</td>\n",
              "      <td>1.232550e+05</td>\n",
              "    </tr>\n",
              "    <tr>\n",
              "      <th>mean</th>\n",
              "      <td>61627.000000</td>\n",
              "      <td>39.673522</td>\n",
              "      <td>3.009385e+04</td>\n",
              "      <td>1.254254e-01</td>\n",
              "      <td>0.741544</td>\n",
              "      <td>421.941942</td>\n",
              "      <td>7.496049e+03</td>\n",
              "      <td>1486.105253</td>\n",
              "      <td>8.560212e+03</td>\n",
              "    </tr>\n",
              "    <tr>\n",
              "      <th>std</th>\n",
              "      <td>35580.798052</td>\n",
              "      <td>16.449416</td>\n",
              "      <td>1.748776e+04</td>\n",
              "      <td>1.105042e-01</td>\n",
              "      <td>0.437788</td>\n",
              "      <td>486.166550</td>\n",
              "      <td>2.158962e+04</td>\n",
              "      <td>1357.035726</td>\n",
              "      <td>2.175863e+04</td>\n",
              "    </tr>\n",
              "    <tr>\n",
              "      <th>min</th>\n",
              "      <td>0.000000</td>\n",
              "      <td>18.000000</td>\n",
              "      <td>2.000019e+04</td>\n",
              "      <td>5.004337e-08</td>\n",
              "      <td>0.000000</td>\n",
              "      <td>0.000000</td>\n",
              "      <td>0.000000e+00</td>\n",
              "      <td>0.000000</td>\n",
              "      <td>-5.100000e+02</td>\n",
              "    </tr>\n",
              "    <tr>\n",
              "      <th>25%</th>\n",
              "      <td>30813.500000</td>\n",
              "      <td>25.000000</td>\n",
              "      <td>2.201773e+04</td>\n",
              "      <td>4.053515e-02</td>\n",
              "      <td>0.000000</td>\n",
              "      <td>74.000000</td>\n",
              "      <td>0.000000e+00</td>\n",
              "      <td>0.000000</td>\n",
              "      <td>-1.000000e+00</td>\n",
              "    </tr>\n",
              "    <tr>\n",
              "      <th>50%</th>\n",
              "      <td>61627.000000</td>\n",
              "      <td>36.000000</td>\n",
              "      <td>2.523474e+04</td>\n",
              "      <td>9.475862e-02</td>\n",
              "      <td>1.000000</td>\n",
              "      <td>252.000000</td>\n",
              "      <td>6.316000e+03</td>\n",
              "      <td>1518.000000</td>\n",
              "      <td>7.755000e+03</td>\n",
              "    </tr>\n",
              "    <tr>\n",
              "      <th>75%</th>\n",
              "      <td>92440.500000</td>\n",
              "      <td>52.000000</td>\n",
              "      <td>3.183823e+04</td>\n",
              "      <td>1.801795e-01</td>\n",
              "      <td>1.000000</td>\n",
              "      <td>600.000000</td>\n",
              "      <td>8.807000e+03</td>\n",
              "      <td>1916.000000</td>\n",
              "      <td>1.044800e+04</td>\n",
              "    </tr>\n",
              "    <tr>\n",
              "      <th>max</th>\n",
              "      <td>123254.000000</td>\n",
              "      <td>75.000000</td>\n",
              "      <td>1.187963e+06</td>\n",
              "      <td>8.601029e-01</td>\n",
              "      <td>1.000000</td>\n",
              "      <td>5178.000000</td>\n",
              "      <td>5.073883e+06</td>\n",
              "      <td>75058.000000</td>\n",
              "      <td>5.075041e+06</td>\n",
              "    </tr>\n",
              "  </tbody>\n",
              "</table>\n",
              "</div>"
            ],
            "text/plain": [
              "                  ID        Возраст  Доход клиента  Вероятность банкротства  \\\n",
              "count  123255.000000  123255.000000   1.232550e+05             1.232550e+05   \n",
              "mean    61627.000000      39.673522   3.009385e+04             1.254254e-01   \n",
              "std     35580.798052      16.449416   1.748776e+04             1.105042e-01   \n",
              "min         0.000000      18.000000   2.000019e+04             5.004337e-08   \n",
              "25%     30813.500000      25.000000   2.201773e+04             4.053515e-02   \n",
              "50%     61627.000000      36.000000   2.523474e+04             9.475862e-02   \n",
              "75%     92440.500000      52.000000   3.183823e+04             1.801795e-01   \n",
              "max    123254.000000      75.000000   1.187963e+06             8.601029e-01   \n",
              "\n",
              "       Флаг утилизации счёта        Расходы         PV КК      PV услуги  \\\n",
              "count          123255.000000  123255.000000  1.232550e+05  123255.000000   \n",
              "mean                0.741544     421.941942  7.496049e+03    1486.105253   \n",
              "std                 0.437788     486.166550  2.158962e+04    1357.035726   \n",
              "min                 0.000000       0.000000  0.000000e+00       0.000000   \n",
              "25%                 0.000000      74.000000  0.000000e+00       0.000000   \n",
              "50%                 1.000000     252.000000  6.316000e+03    1518.000000   \n",
              "75%                 1.000000     600.000000  8.807000e+03    1916.000000   \n",
              "max                 1.000000    5178.000000  5.073883e+06   75058.000000   \n",
              "\n",
              "                NPV  \n",
              "count  1.232550e+05  \n",
              "mean   8.560212e+03  \n",
              "std    2.175863e+04  \n",
              "min   -5.100000e+02  \n",
              "25%   -1.000000e+00  \n",
              "50%    7.755000e+03  \n",
              "75%    1.044800e+04  \n",
              "max    5.075041e+06  "
            ]
          },
          "execution_count": 32,
          "metadata": {},
          "output_type": "execute_result"
        }
      ],
      "source": [
        "df2.describe()"
      ]
    },
    {
      "attachments": {},
      "cell_type": "markdown",
      "id": "e36b594c",
      "metadata": {
        "id": "e36b594c"
      },
      "source": [
        "### 2. Альтернатива в критерии."
      ]
    },
    {
      "attachments": {},
      "cell_type": "markdown",
      "id": "ac6344e3",
      "metadata": {},
      "source": [
        "$H_0: \\overline {NPV}_{test} = \\overline{NPV}_{control}$  - отсутствие различий в среднем значении NPV между тестовой и контрольной выборках\\\n",
        "$H_1: \\overline {NPV}_{test} > \\overline{NPV}_{control}$ - увеличение доходности на тестовой выборке в результате более агрессивной стратегии продажи услуги\n"
      ]
    },
    {
      "attachments": {},
      "cell_type": "markdown",
      "id": "692b97f3",
      "metadata": {
        "id": "692b97f3"
      },
      "source": [
        "### 3. Нужно выбрать параметр(-ы), влияющий(-ие) на целевую метрику. Привести аргументацию."
      ]
    },
    {
      "attachments": {},
      "cell_type": "markdown",
      "id": "4bYv6W9ljUEg",
      "metadata": {
        "id": "4bYv6W9ljUEg"
      },
      "source": [
        "Помимо параметров, которыми **NPV** задается напрямую: $NPV = PV_{кк} + PV_{услуги} - расходы$,\n",
        "- доход от кредитной карты\n",
        "- доход от услуги\n",
        "- затраты на заявку\n",
        "\n",
        "В качестве неявных параметров можно выделить следующие: \n",
        "- Возраст,\n",
        "- Доход клиента,\n",
        "- Вероятность банкротства,\n",
        "- Флаг утилизации счёта \n",
        "\n",
        "Эти парамтры будут косвенно влиять на целевую метрику поскольку характеризуют поведение клиента"
      ]
    },
    {
      "attachments": {},
      "cell_type": "markdown",
      "id": "9b40ecbb",
      "metadata": {
        "id": "9b40ecbb"
      },
      "source": [
        "### 4.1. Каков размер выборки необходим для проведения теста?"
      ]
    },
    {
      "cell_type": "code",
      "execution_count": 33,
      "id": "tk7WBLvmjSnM",
      "metadata": {
        "id": "tk7WBLvmjSnM"
      },
      "outputs": [
        {
          "name": "stdout",
          "output_type": "stream",
          "text": [
            "Необходимый объем выборки: 103221\n",
            "Выборочное среднее: 8560.21\n",
            "Выборочное среднее: 473437865.83\n"
          ]
        }
      ],
      "source": [
        "alpha = 0.05\n",
        "alpha_homogen = 0.02\n",
        "beta = 0.15\n",
        "\n",
        "# в зависимости от сформуллированной гипотезы, считаем соответствующие квантили одностороннего распределения\n",
        "z_alpha = st.norm.ppf(1-alpha)\n",
        "z_beta = st.norm.ppf(beta)\n",
        "n = df2.NPV.var() * (z_alpha-z_beta)**2/(0.03*df2.NPV.mean())**2/0.5\n",
        "print(f'Необходимый объем выборки: {int(n+0.5)}')\n",
        "print(f\"Выборочное среднее: {df2.NPV.mean():.02f}\")\n",
        "print(f\"Выборочное среднее: {df2.NPV.var():.02f}\")\n"
      ]
    },
    {
      "attachments": {},
      "cell_type": "markdown",
      "id": "44f5eefc",
      "metadata": {},
      "source": [
        "$$n = \\frac{\\sigma^2*(z_{1-\\alpha}-z_{\\beta})^2}{k*\\Delta^2} \\approx 103221,$$\n",
        "\n",
        "где $\\sigma^2 \\approx 459229.7$  - дисперсия на основе исторических данных\\\n",
        "$\\Delta = 0.03 * \\mu_0 = 8.44$ - ожидаемое изменение\\\n",
        "$\\alpha, \\beta$ - вероятность ошибки I и II рода\\\n",
        "$z_{1-\\alpha}$ - квантиль одностороннего стандартного распределения\\\n",
        "k = 0.5 - пропорция, в соответствии с которой делим тест/контроль\n",
        "\n",
        "\n"
      ]
    },
    {
      "cell_type": "code",
      "execution_count": 34,
      "id": "F5c-oqIBjVJS",
      "metadata": {
        "id": "F5c-oqIBjVJS"
      },
      "outputs": [
        {
          "data": {
            "text/html": [
              "<div>\n",
              "<style scoped>\n",
              "    .dataframe tbody tr th:only-of-type {\n",
              "        vertical-align: middle;\n",
              "    }\n",
              "\n",
              "    .dataframe tbody tr th {\n",
              "        vertical-align: top;\n",
              "    }\n",
              "\n",
              "    .dataframe thead th {\n",
              "        text-align: right;\n",
              "    }\n",
              "</style>\n",
              "<table border=\"1\" class=\"dataframe\">\n",
              "  <thead>\n",
              "    <tr style=\"text-align: right;\">\n",
              "      <th></th>\n",
              "      <th>Вероятность банкротства</th>\n",
              "      <th>Расходы</th>\n",
              "      <th>PV КК</th>\n",
              "      <th>PV услуги</th>\n",
              "      <th>NPV</th>\n",
              "    </tr>\n",
              "  </thead>\n",
              "  <tbody>\n",
              "    <tr>\n",
              "      <th>mean</th>\n",
              "      <td>0.131458</td>\n",
              "      <td>419.121380</td>\n",
              "      <td>6613.184430</td>\n",
              "      <td>2449.411670</td>\n",
              "      <td>8643.474719</td>\n",
              "    </tr>\n",
              "    <tr>\n",
              "      <th>std</th>\n",
              "      <td>0.115598</td>\n",
              "      <td>487.550426</td>\n",
              "      <td>10703.417918</td>\n",
              "      <td>2274.559625</td>\n",
              "      <td>11362.846394</td>\n",
              "    </tr>\n",
              "    <tr>\n",
              "      <th>50%</th>\n",
              "      <td>0.099424</td>\n",
              "      <td>248.000000</td>\n",
              "      <td>5663.000000</td>\n",
              "      <td>2534.000000</td>\n",
              "      <td>8263.000000</td>\n",
              "    </tr>\n",
              "  </tbody>\n",
              "</table>\n",
              "</div>"
            ],
            "text/plain": [
              "      Вероятность банкротства     Расходы         PV КК    PV услуги  \\\n",
              "mean                 0.131458  419.121380   6613.184430  2449.411670   \n",
              "std                  0.115598  487.550426  10703.417918  2274.559625   \n",
              "50%                  0.099424  248.000000   5663.000000  2534.000000   \n",
              "\n",
              "               NPV  \n",
              "mean   8643.474719  \n",
              "std   11362.846394  \n",
              "50%    8263.000000  "
            ]
          },
          "metadata": {},
          "output_type": "display_data"
        },
        {
          "data": {
            "text/html": [
              "<div>\n",
              "<style scoped>\n",
              "    .dataframe tbody tr th:only-of-type {\n",
              "        vertical-align: middle;\n",
              "    }\n",
              "\n",
              "    .dataframe tbody tr th {\n",
              "        vertical-align: top;\n",
              "    }\n",
              "\n",
              "    .dataframe thead th {\n",
              "        text-align: right;\n",
              "    }\n",
              "</style>\n",
              "<table border=\"1\" class=\"dataframe\">\n",
              "  <thead>\n",
              "    <tr style=\"text-align: right;\">\n",
              "      <th></th>\n",
              "      <th>Вероятность банкротства</th>\n",
              "      <th>Расходы</th>\n",
              "      <th>PV КК</th>\n",
              "      <th>PV услуги</th>\n",
              "      <th>NPV</th>\n",
              "    </tr>\n",
              "  </thead>\n",
              "  <tbody>\n",
              "    <tr>\n",
              "      <th>mean</th>\n",
              "      <td>0.124453</td>\n",
              "      <td>421.376532</td>\n",
              "      <td>7417.659720</td>\n",
              "      <td>1488.701040</td>\n",
              "      <td>8484.984228</td>\n",
              "    </tr>\n",
              "    <tr>\n",
              "      <th>std</th>\n",
              "      <td>0.109224</td>\n",
              "      <td>484.333310</td>\n",
              "      <td>12134.689123</td>\n",
              "      <td>1279.781302</td>\n",
              "      <td>12431.641636</td>\n",
              "    </tr>\n",
              "    <tr>\n",
              "      <th>50%</th>\n",
              "      <td>0.094051</td>\n",
              "      <td>252.000000</td>\n",
              "      <td>6332.000000</td>\n",
              "      <td>1523.000000</td>\n",
              "      <td>7768.000000</td>\n",
              "    </tr>\n",
              "  </tbody>\n",
              "</table>\n",
              "</div>"
            ],
            "text/plain": [
              "      Вероятность банкротства     Расходы         PV КК    PV услуги  \\\n",
              "mean                 0.124453  421.376532   7417.659720  1488.701040   \n",
              "std                  0.109224  484.333310  12134.689123  1279.781302   \n",
              "50%                  0.094051  252.000000   6332.000000  1523.000000   \n",
              "\n",
              "               NPV  \n",
              "mean   8484.984228  \n",
              "std   12431.641636  \n",
              "50%    7768.000000  "
            ]
          },
          "metadata": {},
          "output_type": "display_data"
        }
      ],
      "source": [
        "sample_code = 36045\n",
        "df_t = pd.read_csv('Тест21.csv')\n",
        "df_c = pd.read_csv('Контроль21.csv')\n",
        "display(df_t.describe()[['Вероятность банкротства','Расходы','PV КК','PV услуги', 'NPV']].loc[['mean', 'std','50%']], df_c.describe()[['Вероятность банкротства','Расходы','PV КК','PV услуги', 'NPV']].loc[['mean', 'std','50%']])"
      ]
    },
    {
      "attachments": {},
      "cell_type": "markdown",
      "id": "f6945c8f",
      "metadata": {
        "id": "f6945c8f"
      },
      "source": [
        "### 5. Проверка на однородность, применение критерия."
      ]
    },
    {
      "attachments": {},
      "cell_type": "markdown",
      "id": "1a1a2dae",
      "metadata": {},
      "source": [
        "### Критерий Колмогорова-Смирнова\n",
        "Проверим однородность выборок по параметру \"Вероятность банкротства\""
      ]
    },
    {
      "cell_type": "code",
      "execution_count": 35,
      "id": "eb21b20f",
      "metadata": {},
      "outputs": [
        {
          "name": "stdout",
          "output_type": "stream",
          "text": [
            "Выборки неоднородны по параметру 'Вероятность банкротства', pvalue = 0.000\n"
          ]
        }
      ],
      "source": [
        "p_val_homogen = ks_2samp(df_t['Вероятность банкротства'], df_c['Вероятность банкротства']).pvalue\n",
        "\n",
        "print(\n",
        "        f\"Выборки являются однородными по параметру 'Вероятность банкротства', pvalue = {p_val_homogen:.3f}\" \n",
        "\n",
        "        if p_val_homogen >= alpha_homogen \n",
        "        \n",
        "        else f\"Выборки неоднородны по параметру 'Вероятность банкротства', pvalue = {p_val_homogen:.3f}\")"
      ]
    },
    {
      "cell_type": "code",
      "execution_count": 36,
      "id": "LVlEnA4DjWp5",
      "metadata": {
        "id": "LVlEnA4DjWp5"
      },
      "outputs": [
        {
          "data": {
            "image/png": "[encoded data removed]"
          },
          "metadata": {},
          "output_type": "display_data"
        },
        {
          "data": {
            "image/png": "[encoded data removed]",
            "text/plain": [
              "<Figure size 1000x400 with 2 Axes>"
            ]
          },
          "metadata": {},
          "output_type": "display_data"
        }
      ],
      "source": [
        "# Теперь посмотрим на распределение целевой метрики NPV на контроле и тесте\n",
        "\n",
        "t_npv = df_t.NPV\n",
        "c_npv = df_c.NPV\n",
        "fig = make_subplots(rows=1, cols=1)\n",
        "\n",
        "fig.add_trace(go.Histogram(\n",
        "    x=c_npv,\n",
        "    autobinx=True,\n",
        "    showlegend=True, name='control_sample'),row=1,col=1)\n",
        "fig.update_xaxes(range=[0, 100000], row=1,col=1)\n",
        "\n",
        "fig.add_trace(go.Histogram(\n",
        "    x=t_npv,\n",
        "    autobinx=True,\n",
        "    showlegend=True, name='test_sample'),row=1,col=1)\n",
        "\n",
        "fig.update_layout(\n",
        "                width=835,\n",
        "                height=400, \n",
        "\t\t\t\ttitle_text=\"Распределение NPV на тестовой и контрольной выборках\",\n",
        "                xaxis_range = [0,15000], \n",
        "                yaxis_range = [0,4000])\n",
        "fig.show(\"png\")\n",
        "\n",
        "fig = plt.figure(figsize=(10,4))\n",
        "ax = fig.add_subplot(121)\n",
        "st.probplot(t_npv, dist=\"norm\", plot=plt)\n",
        "ax.set_title(\"Probplot for test sample\")\n",
        "ax = fig.add_subplot(122)\n",
        "st.probplot(c_npv, dist=\"norm\", plot=plt)\n",
        "ax.set_title(\"Probplot for control sample\")\n",
        "plt.show()\n"
      ]
    },
    {
      "attachments": {},
      "cell_type": "markdown",
      "id": "3fc7f582",
      "metadata": {},
      "source": [
        "### Тест Шапиро-Уилка\n",
        "Снова проверим **нормальность распределения средних** с помощью теста Шапиро-Уилка"
      ]
    },
    {
      "cell_type": "code",
      "execution_count": 41,
      "id": "4860c04f",
      "metadata": {},
      "outputs": [
        {
          "name": "stdout",
          "output_type": "stream",
          "text": [
            "Для контрольной выборки средние распределены нормально, pvalue = 1.0\n",
            "Для тестовой выборки средние распределены нормально, pvalue = 1.0\n"
          ]
        }
      ],
      "source": [
        "print(f\"Для контрольной выборки {shapiro_test(t_npv)}\")\n",
        "print(f\"Для тестовой выборки {shapiro_test(c_npv)}\")"
      ]
    },
    {
      "attachments": {},
      "cell_type": "markdown",
      "id": "aa2f7620",
      "metadata": {},
      "source": [
        "### Тест Левене\n",
        "Проверим **однородность дисперсии** между тестовой и контрольной группами с помощью теста Левене"
      ]
    },
    {
      "cell_type": "code",
      "execution_count": 38,
      "id": "1eaba1a9",
      "metadata": {},
      "outputs": [
        {
          "name": "stdout",
          "output_type": "stream",
          "text": [
            "Выборки обладают однородной дисперсией, pvalue = 0.241\n"
          ]
        }
      ],
      "source": [
        "levene_p_value = levene(t_npv, c_npv).pvalue\n",
        "print(f\"Выборки обладают однородной дисперсией, pvalue = {levene_p_value:.03f}\" if levene_p_value > alpha else f\"Дисперсия выборок неоднородна, pvalue = {levene_p_value:.03f}\")"
      ]
    },
    {
      "attachments": {},
      "cell_type": "markdown",
      "id": "5604212e",
      "metadata": {},
      "source": [
        "### T - тест\n",
        "Так как распределения полученных выборок является нормальным, а дисперсия однородна, применим Т-тест для сравнения средних. \n",
        "\n",
        "Наша **нулевая гипотеза**: Средняя величина NPV на контрольной и тестовой выборках одинакова"
      ]
    },
    {
      "cell_type": "code",
      "execution_count": 39,
      "id": "7cb4e6ed",
      "metadata": {},
      "outputs": [
        {
          "name": "stdout",
          "output_type": "stream",
          "text": [
            "Отклоняем H0-гипотезу?: Да, p-value = 0.0012501245393038228\n"
          ]
        }
      ],
      "source": [
        "p = ttest_ind(t_npv, c_npv, alternative='greater', equal_var=True).pvalue\n",
        "print(f'Отклоняем H0-гипотезу?: {\"Да\" if p < alpha else \"Нет\"}, p-value = {p}') "
      ]
    },
    {
      "attachments": {},
      "cell_type": "markdown",
      "id": "9664bb0f",
      "metadata": {},
      "source": [
        "### **Вывод**: \n",
        "Проведенный тест позволяет отклонить нулевую гипотезу о равенстве среднего значения NPV на тестовой и контрольной группах. Тем самым наблюдается статистически значимое увеличение целевой метрики $\\overline{\\bf{NPV}}$ в результате более агрессивного метода предложения услуги, что характеризуется увеличением доходности от продажи кредитных карт, а также продажи услуг  \n"
      ]
    }
  ],
  "metadata": {
    "colab": {
      "provenance": []
    },
    "kernelspec": {
      "display_name": "Python 3 (ipykernel)",
      "language": "python",
      "name": "python3"
    },
    "language_info": {
      "codemirror_mode": {
        "name": "ipython",
        "version": 3
      },
      "file_extension": ".py",
      "mimetype": "text/x-python",
      "name": "python",
      "nbconvert_exporter": "python",
      "pygments_lexer": "ipython3",
      "version": "3.9.13"
    }
  },
  "nbformat": 4,
  "nbformat_minor": 5
}
